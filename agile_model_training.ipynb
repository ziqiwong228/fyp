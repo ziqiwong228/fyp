{
 "cells": [
  {
   "cell_type": "code",
   "execution_count": 1,
   "id": "02a3efac",
   "metadata": {},
   "outputs": [],
   "source": [
    "import pandas as pd\n",
    "import numpy as np\n",
    "from sklearn.ensemble import RandomForestRegressor\n",
    "from sklearn import svm\n",
    "from sklearn.model_selection import train_test_split\n",
    "import joblib"
   ]
  },
  {
   "cell_type": "code",
   "execution_count": 2,
   "id": "c7d31afa",
   "metadata": {},
   "outputs": [
    {
     "data": {
      "text/html": [
       "<div>\n",
       "<style scoped>\n",
       "    .dataframe tbody tr th:only-of-type {\n",
       "        vertical-align: middle;\n",
       "    }\n",
       "\n",
       "    .dataframe tbody tr th {\n",
       "        vertical-align: top;\n",
       "    }\n",
       "\n",
       "    .dataframe thead th {\n",
       "        text-align: right;\n",
       "    }\n",
       "</style>\n",
       "<table border=\"1\" class=\"dataframe\">\n",
       "  <thead>\n",
       "    <tr style=\"text-align: right;\">\n",
       "      <th></th>\n",
       "      <th>Effort</th>\n",
       "      <th>Vi</th>\n",
       "      <th>D</th>\n",
       "      <th>V</th>\n",
       "      <th>Sprint Size</th>\n",
       "      <th>Work Days</th>\n",
       "      <th>Act:Time</th>\n",
       "    </tr>\n",
       "  </thead>\n",
       "  <tbody>\n",
       "    <tr>\n",
       "      <th>0</th>\n",
       "      <td>156</td>\n",
       "      <td>4.2</td>\n",
       "      <td>0.687</td>\n",
       "      <td>2.7</td>\n",
       "      <td>10</td>\n",
       "      <td>22</td>\n",
       "      <td>63</td>\n",
       "    </tr>\n",
       "    <tr>\n",
       "      <th>1</th>\n",
       "      <td>202</td>\n",
       "      <td>3.7</td>\n",
       "      <td>0.701</td>\n",
       "      <td>2.5</td>\n",
       "      <td>10</td>\n",
       "      <td>21</td>\n",
       "      <td>92</td>\n",
       "    </tr>\n",
       "    <tr>\n",
       "      <th>2</th>\n",
       "      <td>173</td>\n",
       "      <td>4.0</td>\n",
       "      <td>0.878</td>\n",
       "      <td>3.3</td>\n",
       "      <td>10</td>\n",
       "      <td>22</td>\n",
       "      <td>56</td>\n",
       "    </tr>\n",
       "    <tr>\n",
       "      <th>3</th>\n",
       "      <td>331</td>\n",
       "      <td>4.5</td>\n",
       "      <td>0.886</td>\n",
       "      <td>3.8</td>\n",
       "      <td>10</td>\n",
       "      <td>22</td>\n",
       "      <td>86</td>\n",
       "    </tr>\n",
       "    <tr>\n",
       "      <th>4</th>\n",
       "      <td>124</td>\n",
       "      <td>4.9</td>\n",
       "      <td>0.903</td>\n",
       "      <td>4.2</td>\n",
       "      <td>10</td>\n",
       "      <td>22</td>\n",
       "      <td>32</td>\n",
       "    </tr>\n",
       "  </tbody>\n",
       "</table>\n",
       "</div>"
      ],
      "text/plain": [
       "   Effort   Vi      D    V  Sprint Size  Work Days  Act:Time\n",
       "0     156  4.2  0.687  2.7           10         22        63\n",
       "1     202  3.7  0.701  2.5           10         21        92\n",
       "2     173  4.0  0.878  3.3           10         22        56\n",
       "3     331  4.5  0.886  3.8           10         22        86\n",
       "4     124  4.9  0.903  4.2           10         22        32"
      ]
     },
     "execution_count": 2,
     "metadata": {},
     "output_type": "execute_result"
    }
   ],
   "source": [
    "# read in the dataset\n",
    "df = pd.read_csv('./agile_dataset/agile_dataset.csv')\n",
    "\n",
    "# take a look at the data\n",
    "df.head()"
   ]
  },
  {
   "cell_type": "code",
   "execution_count": 3,
   "id": "b635f39f",
   "metadata": {},
   "outputs": [
    {
     "data": {
      "text/html": [
       "<div>\n",
       "<style scoped>\n",
       "    .dataframe tbody tr th:only-of-type {\n",
       "        vertical-align: middle;\n",
       "    }\n",
       "\n",
       "    .dataframe tbody tr th {\n",
       "        vertical-align: top;\n",
       "    }\n",
       "\n",
       "    .dataframe thead th {\n",
       "        text-align: right;\n",
       "    }\n",
       "</style>\n",
       "<table border=\"1\" class=\"dataframe\">\n",
       "  <thead>\n",
       "    <tr style=\"text-align: right;\">\n",
       "      <th></th>\n",
       "      <th>Effort</th>\n",
       "      <th>Vi</th>\n",
       "      <th>D</th>\n",
       "      <th>V</th>\n",
       "      <th>Sprint Size</th>\n",
       "      <th>Work Days</th>\n",
       "    </tr>\n",
       "  </thead>\n",
       "  <tbody>\n",
       "    <tr>\n",
       "      <th>0</th>\n",
       "      <td>156</td>\n",
       "      <td>4.2</td>\n",
       "      <td>0.687</td>\n",
       "      <td>2.7</td>\n",
       "      <td>10</td>\n",
       "      <td>22</td>\n",
       "    </tr>\n",
       "    <tr>\n",
       "      <th>1</th>\n",
       "      <td>202</td>\n",
       "      <td>3.7</td>\n",
       "      <td>0.701</td>\n",
       "      <td>2.5</td>\n",
       "      <td>10</td>\n",
       "      <td>21</td>\n",
       "    </tr>\n",
       "    <tr>\n",
       "      <th>2</th>\n",
       "      <td>173</td>\n",
       "      <td>4.0</td>\n",
       "      <td>0.878</td>\n",
       "      <td>3.3</td>\n",
       "      <td>10</td>\n",
       "      <td>22</td>\n",
       "    </tr>\n",
       "    <tr>\n",
       "      <th>3</th>\n",
       "      <td>331</td>\n",
       "      <td>4.5</td>\n",
       "      <td>0.886</td>\n",
       "      <td>3.8</td>\n",
       "      <td>10</td>\n",
       "      <td>22</td>\n",
       "    </tr>\n",
       "    <tr>\n",
       "      <th>4</th>\n",
       "      <td>124</td>\n",
       "      <td>4.9</td>\n",
       "      <td>0.903</td>\n",
       "      <td>4.2</td>\n",
       "      <td>10</td>\n",
       "      <td>22</td>\n",
       "    </tr>\n",
       "  </tbody>\n",
       "</table>\n",
       "</div>"
      ],
      "text/plain": [
       "   Effort   Vi      D    V  Sprint Size  Work Days\n",
       "0     156  4.2  0.687  2.7           10         22\n",
       "1     202  3.7  0.701  2.5           10         21\n",
       "2     173  4.0  0.878  3.3           10         22\n",
       "3     331  4.5  0.886  3.8           10         22\n",
       "4     124  4.9  0.903  4.2           10         22"
      ]
     },
     "execution_count": 3,
     "metadata": {},
     "output_type": "execute_result"
    }
   ],
   "source": [
    "# split data into inputs and targets \n",
    "x = df.drop(columns= ['Act:Time'])\n",
    "y = df['Act:Time']\n",
    "\n",
    "x.head()"
   ]
  },
  {
   "cell_type": "code",
   "execution_count": 4,
   "id": "c0c15c73",
   "metadata": {},
   "outputs": [],
   "source": [
    "# split data for testing and training \n",
    "X_train, X_test, y_train, y_test = train_test_split(x, y, test_size=0.3)"
   ]
  },
  {
   "cell_type": "code",
   "execution_count": 5,
   "id": "3b0ff2a0",
   "metadata": {},
   "outputs": [],
   "source": [
    "MMRE_list = []\n",
    "for i in np.arange(1,7):\n",
    "    clf = RandomForestRegressor(n_estimators=30,max_features=i)\n",
    "    clf.fit(X_train, y_train)\n",
    "    Y_pred = clf.predict(X_test)\n",
    "    diff = np.absolute(y_test-Y_pred)\n",
    "    MRE = diff/y_test\n",
    "    MMRE = np.mean(MRE)\n",
    "    MMRE_list.append(MMRE)"
   ]
  },
  {
   "cell_type": "code",
   "execution_count": 6,
   "id": "4022c83c",
   "metadata": {},
   "outputs": [
    {
     "data": {
      "text/plain": [
       "[0.3466713307396538,\n",
       " 0.31841736722559705,\n",
       " 0.2890012611324723,\n",
       " 0.17002026944185328,\n",
       " 0.1822832880829775,\n",
       " 0.12450629871049126]"
      ]
     },
     "execution_count": 6,
     "metadata": {},
     "output_type": "execute_result"
    }
   ],
   "source": [
    "# Display accuracy for all range of features\n",
    "MMRE_list"
   ]
  },
  {
   "cell_type": "code",
   "execution_count": 7,
   "id": "fe307bc3",
   "metadata": {},
   "outputs": [
    {
     "data": {
      "text/plain": [
       "['agile_trained_model.joblib']"
      ]
     },
     "execution_count": 7,
     "metadata": {},
     "output_type": "execute_result"
    }
   ],
   "source": [
    "filename = \"agile_trained_model.joblib\"\n",
    "joblib.dump(clf, filename)"
   ]
  },
  {
   "cell_type": "code",
   "execution_count": null,
   "id": "eedda99e",
   "metadata": {},
   "outputs": [],
   "source": []
  }
 ],
 "metadata": {
  "kernelspec": {
   "display_name": "Python 3 (ipykernel)",
   "language": "python",
   "name": "python3"
  },
  "language_info": {
   "codemirror_mode": {
    "name": "ipython",
    "version": 3
   },
   "file_extension": ".py",
   "mimetype": "text/x-python",
   "name": "python",
   "nbconvert_exporter": "python",
   "pygments_lexer": "ipython3",
   "version": "3.8.13"
  }
 },
 "nbformat": 4,
 "nbformat_minor": 5
}
