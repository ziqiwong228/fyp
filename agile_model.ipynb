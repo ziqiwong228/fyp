{
 "cells": [
  {
   "cell_type": "markdown",
   "id": "35064761",
   "metadata": {},
   "source": [
    "# Model Training and Testing Script"
   ]
  },
  {
   "cell_type": "markdown",
   "id": "a1e43c41",
   "metadata": {},
   "source": [
    "## Necessary Libraries"
   ]
  },
  {
   "cell_type": "code",
   "execution_count": 3,
   "id": "6212e3eb",
   "metadata": {},
   "outputs": [],
   "source": [
    "import pandas as pd\n",
    "import numpy as np\n",
    "import joblib\n",
    "import matplotlib.pyplot as plt\n",
    "from sklearn import svm\n",
    "from sklearn import metrics\n",
    "from sklearn.model_selection import train_test_split, cross_val_score, GridSearchCV, ShuffleSplit\n",
    "from sklearn.ensemble import GradientBoostingRegressor\n",
    "from sklearn.ensemble import AdaBoostRegressor\n",
    "from sklearn.ensemble import RandomForestRegressor\n",
    "from sklearn.ensemble import BaggingRegressor"
   ]
  },
  {
   "cell_type": "markdown",
   "id": "af239a70",
   "metadata": {},
   "source": [
    "## Datasets"
   ]
  },
  {
   "cell_type": "code",
   "execution_count": 4,
   "id": "b9a05cb6",
   "metadata": {},
   "outputs": [
    {
     "data": {
      "text/html": [
       "<div>\n",
       "<style scoped>\n",
       "    .dataframe tbody tr th:only-of-type {\n",
       "        vertical-align: middle;\n",
       "    }\n",
       "\n",
       "    .dataframe tbody tr th {\n",
       "        vertical-align: top;\n",
       "    }\n",
       "\n",
       "    .dataframe thead th {\n",
       "        text-align: right;\n",
       "    }\n",
       "</style>\n",
       "<table border=\"1\" class=\"dataframe\">\n",
       "  <thead>\n",
       "    <tr style=\"text-align: right;\">\n",
       "      <th></th>\n",
       "      <th>Effort</th>\n",
       "      <th>Vi</th>\n",
       "      <th>D</th>\n",
       "      <th>V</th>\n",
       "      <th>Sprint Size</th>\n",
       "      <th>Work Days</th>\n",
       "      <th>Act:Time</th>\n",
       "    </tr>\n",
       "  </thead>\n",
       "  <tbody>\n",
       "    <tr>\n",
       "      <th>0</th>\n",
       "      <td>156</td>\n",
       "      <td>4.2</td>\n",
       "      <td>0.687</td>\n",
       "      <td>2.7</td>\n",
       "      <td>10</td>\n",
       "      <td>22</td>\n",
       "      <td>63</td>\n",
       "    </tr>\n",
       "    <tr>\n",
       "      <th>1</th>\n",
       "      <td>202</td>\n",
       "      <td>3.7</td>\n",
       "      <td>0.701</td>\n",
       "      <td>2.5</td>\n",
       "      <td>10</td>\n",
       "      <td>21</td>\n",
       "      <td>92</td>\n",
       "    </tr>\n",
       "    <tr>\n",
       "      <th>2</th>\n",
       "      <td>173</td>\n",
       "      <td>4.0</td>\n",
       "      <td>0.878</td>\n",
       "      <td>3.3</td>\n",
       "      <td>10</td>\n",
       "      <td>22</td>\n",
       "      <td>56</td>\n",
       "    </tr>\n",
       "    <tr>\n",
       "      <th>3</th>\n",
       "      <td>331</td>\n",
       "      <td>4.5</td>\n",
       "      <td>0.886</td>\n",
       "      <td>3.8</td>\n",
       "      <td>10</td>\n",
       "      <td>22</td>\n",
       "      <td>86</td>\n",
       "    </tr>\n",
       "    <tr>\n",
       "      <th>4</th>\n",
       "      <td>124</td>\n",
       "      <td>4.9</td>\n",
       "      <td>0.903</td>\n",
       "      <td>4.2</td>\n",
       "      <td>10</td>\n",
       "      <td>22</td>\n",
       "      <td>32</td>\n",
       "    </tr>\n",
       "  </tbody>\n",
       "</table>\n",
       "</div>"
      ],
      "text/plain": [
       "   Effort   Vi      D    V  Sprint Size  Work Days  Act:Time\n",
       "0     156  4.2  0.687  2.7           10         22        63\n",
       "1     202  3.7  0.701  2.5           10         21        92\n",
       "2     173  4.0  0.878  3.3           10         22        56\n",
       "3     331  4.5  0.886  3.8           10         22        86\n",
       "4     124  4.9  0.903  4.2           10         22        32"
      ]
     },
     "execution_count": 4,
     "metadata": {},
     "output_type": "execute_result"
    }
   ],
   "source": [
    "# read in the dataset\n",
    "df = pd.read_csv('./agile_dataset/agile_dataset.csv')\n",
    "\n",
    "df.head()"
   ]
  },
  {
   "cell_type": "code",
   "execution_count": 5,
   "id": "508bceeb",
   "metadata": {},
   "outputs": [
    {
     "name": "stdout",
     "output_type": "stream",
     "text": [
      "21\n"
     ]
    }
   ],
   "source": [
    "print(len(df))"
   ]
  },
  {
   "cell_type": "markdown",
   "id": "2a16b566",
   "metadata": {},
   "source": [
    ">There are 21 rows, 6 predictors, and 1 target in total"
   ]
  },
  {
   "cell_type": "markdown",
   "id": "d0a8065c",
   "metadata": {},
   "source": [
    "## Global Variables"
   ]
  },
  {
   "cell_type": "code",
   "execution_count": 6,
   "id": "175ff150",
   "metadata": {},
   "outputs": [],
   "source": [
    "TARGET = 'Act:Time'\n",
    "\n",
    "#Choose all predictors except target & IDcols\n",
    "PREDICTORS = [x for x in df.columns if x not in [TARGET]]\n",
    "\n",
    "X = df[TARGET]\n",
    "y = df[PREDICTORS]"
   ]
  },
  {
   "cell_type": "markdown",
   "id": "abbba04e",
   "metadata": {},
   "source": [
    "## Model Fitting"
   ]
  },
  {
   "cell_type": "code",
   "execution_count": 7,
   "id": "920b7e0f",
   "metadata": {},
   "outputs": [],
   "source": [
    "def modelfit(alg, X_train, X_test, y_train, y_test, predictors, printFeatureImportance=True):\n",
    "    \n",
    "    #Fit the algorithm on the data\n",
    "    alg.fit(X_train, y_train)\n",
    "\n",
    "    #Predict training set:\n",
    "    Y_pred = alg.predict(X_test)\n",
    "    diff = np.absolute(y_test-Y_pred)\n",
    "    MRE = diff/y_test\n",
    "    MMRE = np.mean(MRE)\n",
    "    MAE = metrics.mean_absolute_error(y_test,Y_pred)\n",
    "    \n",
    "    #Print model report:\n",
    "    print (\"\\nModel Report\")\n",
    "    print (\"Average MMRE: %.4g\" % MMRE)\n",
    "    print (\"Average MAE: %.4g\" % MAE)"
   ]
  },
  {
   "cell_type": "code",
   "execution_count": 8,
   "id": "8141b887",
   "metadata": {},
   "outputs": [],
   "source": [
    "# split data for testing and training \n",
    "X_train, X_test, y_train, y_test = train_test_split(df[PREDICTORS], df[TARGET], test_size=0.3)"
   ]
  },
  {
   "cell_type": "markdown",
   "id": "4c203fd4",
   "metadata": {},
   "source": [
    "### Bagging"
   ]
  },
  {
   "cell_type": "code",
   "execution_count": 9,
   "id": "0a68c842",
   "metadata": {},
   "outputs": [
    {
     "name": "stdout",
     "output_type": "stream",
     "text": [
      "\n",
      "Model Report\n",
      "Average MMRE: 0.04472\n",
      "Average MAE: 2.429\n"
     ]
    }
   ],
   "source": [
    "bag = BaggingRegressor(random_state=42)\n",
    "modelfit(bag, X_train, X_test, y_train, y_test, PREDICTORS)"
   ]
  },
  {
   "cell_type": "markdown",
   "id": "f8ccd47b",
   "metadata": {},
   "source": [
    "### AdaBoost"
   ]
  },
  {
   "cell_type": "code",
   "execution_count": 10,
   "id": "f5a62419",
   "metadata": {},
   "outputs": [
    {
     "name": "stdout",
     "output_type": "stream",
     "text": [
      "\n",
      "Model Report\n",
      "Average MMRE: 0.0869\n",
      "Average MAE: 5.286\n"
     ]
    }
   ],
   "source": [
    "ada = AdaBoostRegressor(random_state=42)\n",
    "modelfit(ada, X_train, X_test, y_train, y_test, PREDICTORS)"
   ]
  },
  {
   "cell_type": "markdown",
   "id": "75fa0770",
   "metadata": {},
   "source": [
    "### Random Forest Regressor"
   ]
  },
  {
   "cell_type": "code",
   "execution_count": 11,
   "id": "8b8b5943",
   "metadata": {},
   "outputs": [
    {
     "name": "stdout",
     "output_type": "stream",
     "text": [
      "\n",
      "Model Report\n",
      "Average MMRE: 0.03048\n",
      "Average MAE: 1.56\n"
     ]
    }
   ],
   "source": [
    "rf = RandomForestRegressor(random_state=42)\n",
    "modelfit(rf, X_train, X_test, y_train, y_test, PREDICTORS)"
   ]
  },
  {
   "cell_type": "markdown",
   "id": "cf09e35d",
   "metadata": {},
   "source": [
    "### Gradient Boosting"
   ]
  },
  {
   "cell_type": "code",
   "execution_count": 12,
   "id": "0e98d84e",
   "metadata": {},
   "outputs": [
    {
     "name": "stdout",
     "output_type": "stream",
     "text": [
      "\n",
      "Model Report\n",
      "Average MMRE: 0.043\n",
      "Average MAE: 1.888\n"
     ]
    }
   ],
   "source": [
    "gbm0 = GradientBoostingRegressor(random_state=42)\n",
    "modelfit(gbm0, X_train, X_test, y_train, y_test, PREDICTORS)"
   ]
  },
  {
   "cell_type": "markdown",
   "id": "cde5479f",
   "metadata": {},
   "source": [
    "## Results\n",
    "From the results above, we can see that the proposed models have similar MMRE but Random Forest Regressor outperforms the rest in terms of lower MAE. This model will not be optimized due to little effects of hyperparameters tuning on small dataset."
   ]
  },
  {
   "cell_type": "code",
   "execution_count": 13,
   "id": "2d0f32ed",
   "metadata": {},
   "outputs": [
    {
     "data": {
      "text/plain": [
       "Text(0, 0.5, 'Feature Importance Score')"
      ]
     },
     "execution_count": 13,
     "metadata": {},
     "output_type": "execute_result"
    },
    {
     "data": {
      "image/png": "[encoded data removed]",
      "text/plain": [
       "<Figure size 640x480 with 1 Axes>"
      ]
     },
     "metadata": {},
     "output_type": "display_data"
    }
   ],
   "source": [
    "feat_imp = pd.Series(rf.feature_importances_, PREDICTORS).sort_values(ascending=False)\n",
    "feat_imp.plot(kind='bar', title='Feature Importances')\n",
    "plt.ylabel('Feature Importance Score')"
   ]
  },
  {
   "cell_type": "markdown",
   "id": "0e64b8e5",
   "metadata": {},
   "source": [
    ">Since the dataset is small, the entry values do not differ much from each other, hence the model will produce similar results to user input if the differences of field values are small"
   ]
  },
  {
   "cell_type": "markdown",
   "id": "a502fd51",
   "metadata": {},
   "source": [
    "## Export Model"
   ]
  },
  {
   "cell_type": "code",
   "execution_count": 14,
   "id": "276960ab",
   "metadata": {},
   "outputs": [
    {
     "data": {
      "text/plain": [
       "['agile_trained_model.joblib']"
      ]
     },
     "execution_count": 14,
     "metadata": {},
     "output_type": "execute_result"
    }
   ],
   "source": [
    "filename = \"agile_trained_model.joblib\"\n",
    "joblib.dump(rf, filename)"
   ]
  },
  {
   "cell_type": "code",
   "execution_count": null,
   "id": "f1dcce32",
   "metadata": {},
   "outputs": [],
   "source": []
  }
 ],
 "metadata": {
  "kernelspec": {
   "display_name": "Python 3.9.13 ('ziqi_working')",
   "language": "python",
   "name": "python3"
  },
  "language_info": {
   "codemirror_mode": {
    "name": "ipython",
    "version": 3
   },
   "file_extension": ".py",
   "mimetype": "text/x-python",
   "name": "python",
   "nbconvert_exporter": "python",
   "pygments_lexer": "ipython3",
   "version": "3.9.13"
  },
  "vscode": {
   "interpreter": {
    "hash": "befb4349013f2ba25aa4f7fa05787c3745c945e27f323268727cb9f8ce61b9b5"
   }
  }
 },
 "nbformat": 4,
 "nbformat_minor": 5
}
