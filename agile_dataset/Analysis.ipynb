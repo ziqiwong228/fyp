{
 "cells": [
  {
   "cell_type": "markdown",
   "id": "6c27e5cb-3377-45a0-9d8d-9eee1e0c1270",
   "metadata": {},
   "source": [
    "### Import Libraries"
   ]
  },
  {
   "cell_type": "code",
   "execution_count": 2,
   "id": "9c7473d2-cd06-46fb-aea0-ad6cff98108e",
   "metadata": {},
   "outputs": [],
   "source": [
    "# Standard Data Manipulation\n",
    "import pandas as pd\n",
    "import numpy as np\n",
    "import matplotlib.pyplot as plt"
   ]
  },
  {
   "cell_type": "markdown",
   "id": "2df2eb1b-01e7-4ccf-9460-155cbfdd166b",
   "metadata": {},
   "source": [
    "### Load Data Sources"
   ]
  },
  {
   "cell_type": "code",
   "execution_count": 3,
   "id": "ef37823a-22a4-46e8-8929-cd5be484911d",
   "metadata": {},
   "outputs": [],
   "source": [
    "# retrieve from https://www.researchgate.net/publication/268186219_An_Effort_Estimation_Model_for_Agile_Software_Development\n",
    "\n",
    "data = {'Effort': [156,202,173,331,124,339,97,257,84,211,131,112,101,74,62,289,113,141,213,137,91],\n",
    "        'Vi': [4.2,3.7,4,4.5,4.9,4.1,4.2,3.8,3.9,4.6,4.6,3.9,3.9,3.9,3.9,4,4,4,4,3.7,3.7],\n",
    "        'D': [0.687,0.701,0.878,0.886,0.903,0.903,0.859,0.833,0.646,0.758,0.758,0.773,0.773,0.773,0.773,0.742,0.742,0.742,0.742,0.758,0.758],\n",
    "        'V': [2.7,2.5,3.3,3.8,4.2,3.6,3.4,3,2.4,3.2,3.2,2.9,2.9,2.9,2.9,2.8,2.8,2.8,2.8,2.7,2.7],\n",
    "        'Sprint Size': [10,10,10,10,10,10,10,10,10,10,10,10,10,10,10,10,10,10,10,10,10],\n",
    "        'Work Days': [22,21,22,22,22,22,22,22,22,22,22,22,22,22,22,22,22,22,22,22,22],\n",
    "        'Act:Time': [63,92,56,86,32,91,35,93,36,62,45,37,32,30,21,112,39,52,80,56,35]\n",
    "       }\n",
    "\n",
    "df_project = pd.DataFrame(data)"
   ]
  },
  {
   "cell_type": "markdown",
   "id": "3b714482",
   "metadata": {},
   "source": [
    "#### Export dataset"
   ]
  },
  {
   "cell_type": "code",
   "execution_count": null,
   "id": "d5d8a119",
   "metadata": {},
   "outputs": [],
   "source": [
    "# use original dataset to get user input since the processed data is scaled and output value is scaled as well.\n",
    "df_project.to_csv('agile_dataset.csv', index=False)"
   ]
  },
  {
   "cell_type": "markdown",
   "id": "b1613812",
   "metadata": {},
   "source": [
    "### Preprocess dataset for evaluation purposes"
   ]
  },
  {
   "cell_type": "code",
   "execution_count": 4,
   "id": "ee575be3-21e6-477d-a410-1f806b903cc4",
   "metadata": {},
   "outputs": [
    {
     "data": {
      "text/html": [
       "<div>\n",
       "<style scoped>\n",
       "    .dataframe tbody tr th:only-of-type {\n",
       "        vertical-align: middle;\n",
       "    }\n",
       "\n",
       "    .dataframe tbody tr th {\n",
       "        vertical-align: top;\n",
       "    }\n",
       "\n",
       "    .dataframe thead th {\n",
       "        text-align: right;\n",
       "    }\n",
       "</style>\n",
       "<table border=\"1\" class=\"dataframe\">\n",
       "  <thead>\n",
       "    <tr style=\"text-align: right;\">\n",
       "      <th></th>\n",
       "      <th>Effort</th>\n",
       "      <th>Vi</th>\n",
       "      <th>D</th>\n",
       "      <th>V</th>\n",
       "      <th>Sprint Size</th>\n",
       "      <th>Work Days</th>\n",
       "      <th>Act:Time</th>\n",
       "    </tr>\n",
       "  </thead>\n",
       "  <tbody>\n",
       "    <tr>\n",
       "      <th>count</th>\n",
       "      <td>21.000000</td>\n",
       "      <td>21.000000</td>\n",
       "      <td>21.000000</td>\n",
       "      <td>21.000000</td>\n",
       "      <td>21.0</td>\n",
       "      <td>21.000000</td>\n",
       "      <td>21.000000</td>\n",
       "    </tr>\n",
       "    <tr>\n",
       "      <th>mean</th>\n",
       "      <td>163.714286</td>\n",
       "      <td>4.071429</td>\n",
       "      <td>0.780381</td>\n",
       "      <td>3.023810</td>\n",
       "      <td>10.0</td>\n",
       "      <td>21.952381</td>\n",
       "      <td>56.428571</td>\n",
       "    </tr>\n",
       "    <tr>\n",
       "      <th>std</th>\n",
       "      <td>82.743062</td>\n",
       "      <td>0.325796</td>\n",
       "      <td>0.071028</td>\n",
       "      <td>0.438069</td>\n",
       "      <td>0.0</td>\n",
       "      <td>0.218218</td>\n",
       "      <td>26.177417</td>\n",
       "    </tr>\n",
       "    <tr>\n",
       "      <th>min</th>\n",
       "      <td>62.000000</td>\n",
       "      <td>3.700000</td>\n",
       "      <td>0.646000</td>\n",
       "      <td>2.400000</td>\n",
       "      <td>10.0</td>\n",
       "      <td>21.000000</td>\n",
       "      <td>21.000000</td>\n",
       "    </tr>\n",
       "    <tr>\n",
       "      <th>25%</th>\n",
       "      <td>101.000000</td>\n",
       "      <td>3.900000</td>\n",
       "      <td>0.742000</td>\n",
       "      <td>2.800000</td>\n",
       "      <td>10.0</td>\n",
       "      <td>22.000000</td>\n",
       "      <td>35.000000</td>\n",
       "    </tr>\n",
       "    <tr>\n",
       "      <th>50%</th>\n",
       "      <td>137.000000</td>\n",
       "      <td>4.000000</td>\n",
       "      <td>0.758000</td>\n",
       "      <td>2.900000</td>\n",
       "      <td>10.0</td>\n",
       "      <td>22.000000</td>\n",
       "      <td>52.000000</td>\n",
       "    </tr>\n",
       "    <tr>\n",
       "      <th>75%</th>\n",
       "      <td>211.000000</td>\n",
       "      <td>4.200000</td>\n",
       "      <td>0.833000</td>\n",
       "      <td>3.200000</td>\n",
       "      <td>10.0</td>\n",
       "      <td>22.000000</td>\n",
       "      <td>80.000000</td>\n",
       "    </tr>\n",
       "    <tr>\n",
       "      <th>max</th>\n",
       "      <td>339.000000</td>\n",
       "      <td>4.900000</td>\n",
       "      <td>0.903000</td>\n",
       "      <td>4.200000</td>\n",
       "      <td>10.0</td>\n",
       "      <td>22.000000</td>\n",
       "      <td>112.000000</td>\n",
       "    </tr>\n",
       "  </tbody>\n",
       "</table>\n",
       "</div>"
      ],
      "text/plain": [
       "           Effort         Vi          D          V  Sprint Size  Work Days  \\\n",
       "count   21.000000  21.000000  21.000000  21.000000         21.0  21.000000   \n",
       "mean   163.714286   4.071429   0.780381   3.023810         10.0  21.952381   \n",
       "std     82.743062   0.325796   0.071028   0.438069          0.0   0.218218   \n",
       "min     62.000000   3.700000   0.646000   2.400000         10.0  21.000000   \n",
       "25%    101.000000   3.900000   0.742000   2.800000         10.0  22.000000   \n",
       "50%    137.000000   4.000000   0.758000   2.900000         10.0  22.000000   \n",
       "75%    211.000000   4.200000   0.833000   3.200000         10.0  22.000000   \n",
       "max    339.000000   4.900000   0.903000   4.200000         10.0  22.000000   \n",
       "\n",
       "         Act:Time  \n",
       "count   21.000000  \n",
       "mean    56.428571  \n",
       "std     26.177417  \n",
       "min     21.000000  \n",
       "25%     35.000000  \n",
       "50%     52.000000  \n",
       "75%     80.000000  \n",
       "max    112.000000  "
      ]
     },
     "execution_count": 4,
     "metadata": {},
     "output_type": "execute_result"
    }
   ],
   "source": [
    "df_project.describe()"
   ]
  },
  {
   "cell_type": "code",
   "execution_count": 5,
   "id": "5dcff177-5a93-4604-8b43-3cd57c9bcbd9",
   "metadata": {},
   "outputs": [
    {
     "data": {
      "text/html": [
       "<div>\n",
       "<style scoped>\n",
       "    .dataframe tbody tr th:only-of-type {\n",
       "        vertical-align: middle;\n",
       "    }\n",
       "\n",
       "    .dataframe tbody tr th {\n",
       "        vertical-align: top;\n",
       "    }\n",
       "\n",
       "    .dataframe thead th {\n",
       "        text-align: right;\n",
       "    }\n",
       "</style>\n",
       "<table border=\"1\" class=\"dataframe\">\n",
       "  <thead>\n",
       "    <tr style=\"text-align: right;\">\n",
       "      <th></th>\n",
       "      <th>Act:Time</th>\n",
       "    </tr>\n",
       "  </thead>\n",
       "  <tbody>\n",
       "    <tr>\n",
       "      <th>Effort</th>\n",
       "      <td>0.928819</td>\n",
       "    </tr>\n",
       "    <tr>\n",
       "      <th>Vi</th>\n",
       "      <td>1.192888</td>\n",
       "    </tr>\n",
       "    <tr>\n",
       "      <th>D</th>\n",
       "      <td>0.372233</td>\n",
       "    </tr>\n",
       "    <tr>\n",
       "      <th>V</th>\n",
       "      <td>1.203352</td>\n",
       "    </tr>\n",
       "    <tr>\n",
       "      <th>Sprint Size</th>\n",
       "      <td>0.000000</td>\n",
       "    </tr>\n",
       "    <tr>\n",
       "      <th>Work Days</th>\n",
       "      <td>-4.582576</td>\n",
       "    </tr>\n",
       "    <tr>\n",
       "      <th>Act:Time</th>\n",
       "      <td>0.652416</td>\n",
       "    </tr>\n",
       "  </tbody>\n",
       "</table>\n",
       "</div>"
      ],
      "text/plain": [
       "             Act:Time\n",
       "Effort       0.928819\n",
       "Vi           1.192888\n",
       "D            0.372233\n",
       "V            1.203352\n",
       "Sprint Size  0.000000\n",
       "Work Days   -4.582576\n",
       "Act:Time     0.652416"
      ]
     },
     "execution_count": 5,
     "metadata": {},
     "output_type": "execute_result"
    }
   ],
   "source": [
    "pd.DataFrame(df_project.skew(), columns=['Act:Time'])"
   ]
  },
  {
   "cell_type": "code",
   "execution_count": 6,
   "id": "41e25481-2117-44f9-99d7-28666d7565bc",
   "metadata": {},
   "outputs": [
    {
     "data": {
      "text/html": [
       "<div>\n",
       "<style scoped>\n",
       "    .dataframe tbody tr th:only-of-type {\n",
       "        vertical-align: middle;\n",
       "    }\n",
       "\n",
       "    .dataframe tbody tr th {\n",
       "        vertical-align: top;\n",
       "    }\n",
       "\n",
       "    .dataframe thead th {\n",
       "        text-align: right;\n",
       "    }\n",
       "</style>\n",
       "<table border=\"1\" class=\"dataframe\">\n",
       "  <thead>\n",
       "    <tr style=\"text-align: right;\">\n",
       "      <th></th>\n",
       "      <th>Act:Time</th>\n",
       "    </tr>\n",
       "  </thead>\n",
       "  <tbody>\n",
       "    <tr>\n",
       "      <th>Effort</th>\n",
       "      <td>-0.113902</td>\n",
       "    </tr>\n",
       "    <tr>\n",
       "      <th>Vi</th>\n",
       "      <td>0.859918</td>\n",
       "    </tr>\n",
       "    <tr>\n",
       "      <th>D</th>\n",
       "      <td>-0.417613</td>\n",
       "    </tr>\n",
       "    <tr>\n",
       "      <th>V</th>\n",
       "      <td>1.416603</td>\n",
       "    </tr>\n",
       "    <tr>\n",
       "      <th>Sprint Size</th>\n",
       "      <td>0.000000</td>\n",
       "    </tr>\n",
       "    <tr>\n",
       "      <th>Work Days</th>\n",
       "      <td>21.000000</td>\n",
       "    </tr>\n",
       "    <tr>\n",
       "      <th>Act:Time</th>\n",
       "      <td>-0.767895</td>\n",
       "    </tr>\n",
       "  </tbody>\n",
       "</table>\n",
       "</div>"
      ],
      "text/plain": [
       "              Act:Time\n",
       "Effort       -0.113902\n",
       "Vi            0.859918\n",
       "D            -0.417613\n",
       "V             1.416603\n",
       "Sprint Size   0.000000\n",
       "Work Days    21.000000\n",
       "Act:Time     -0.767895"
      ]
     },
     "execution_count": 6,
     "metadata": {},
     "output_type": "execute_result"
    }
   ],
   "source": [
    "pd.DataFrame(df_project.kurt(), columns=['Act:Time'])"
   ]
  },
  {
   "cell_type": "code",
   "execution_count": 7,
   "id": "31364d1d-51b0-44b7-ae63-a87e4067177e",
   "metadata": {},
   "outputs": [
    {
     "data": {
      "text/plain": [
       "<AxesSubplot: >"
      ]
     },
     "execution_count": 7,
     "metadata": {},
     "output_type": "execute_result"
    },
    {
     "data": {
      "image/png": "[encoded data removed]",
      "text/plain": [
       "<Figure size 640x480 with 1 Axes>"
      ]
     },
     "metadata": {},
     "output_type": "display_data"
    }
   ],
   "source": [
    "# df_project['Act:Time'].hist()\n",
    "df_project['Effort'].hist()"
   ]
  },
  {
   "cell_type": "code",
   "execution_count": 14,
   "id": "2560149f-9d94-4945-9b76-a8028c32e189",
   "metadata": {},
   "outputs": [],
   "source": [
    "df_project['Act:Time'] = np.log(df_project['Act:Time'])\n",
    "# df_project['Effort'] = np.log(df_project['Effort'])"
   ]
  },
  {
   "cell_type": "code",
   "execution_count": 94,
   "id": "4cf2cf52-5983-485e-b42c-f50742e06287",
   "metadata": {},
   "outputs": [
    {
     "data": {
      "text/plain": [
       "<AxesSubplot: >"
      ]
     },
     "execution_count": 94,
     "metadata": {},
     "output_type": "execute_result"
    },
    {
     "data": {
      "image/png": "[encoded data removed]",
      "text/plain": [
       "<Figure size 432x288 with 1 Axes>"
      ]
     },
     "metadata": {
      "needs_background": "light"
     },
     "output_type": "display_data"
    }
   ],
   "source": [
    "# df_project['Act:Time'].hist()\n",
    "df_project['Effort'].hist()"
   ]
  },
  {
   "cell_type": "code",
   "execution_count": 97,
   "id": "4dcf8980-7100-42ff-b456-19ef46045006",
   "metadata": {},
   "outputs": [
    {
     "data": {
      "text/html": [
       "<div>\n",
       "<style scoped>\n",
       "    .dataframe tbody tr th:only-of-type {\n",
       "        vertical-align: middle;\n",
       "    }\n",
       "\n",
       "    .dataframe tbody tr th {\n",
       "        vertical-align: top;\n",
       "    }\n",
       "\n",
       "    .dataframe thead th {\n",
       "        text-align: right;\n",
       "    }\n",
       "</style>\n",
       "<table border=\"1\" class=\"dataframe\">\n",
       "  <thead>\n",
       "    <tr style=\"text-align: right;\">\n",
       "      <th></th>\n",
       "      <th>Act:Time</th>\n",
       "    </tr>\n",
       "  </thead>\n",
       "  <tbody>\n",
       "    <tr>\n",
       "      <th>Effort</th>\n",
       "      <td>-0.113902</td>\n",
       "    </tr>\n",
       "    <tr>\n",
       "      <th>Vi</th>\n",
       "      <td>0.859918</td>\n",
       "    </tr>\n",
       "    <tr>\n",
       "      <th>D</th>\n",
       "      <td>-0.417613</td>\n",
       "    </tr>\n",
       "    <tr>\n",
       "      <th>V</th>\n",
       "      <td>1.416603</td>\n",
       "    </tr>\n",
       "    <tr>\n",
       "      <th>Sprint Size</th>\n",
       "      <td>0.000000</td>\n",
       "    </tr>\n",
       "    <tr>\n",
       "      <th>Act:Time</th>\n",
       "      <td>-1.023869</td>\n",
       "    </tr>\n",
       "  </tbody>\n",
       "</table>\n",
       "</div>"
      ],
      "text/plain": [
       "             Act:Time\n",
       "Effort      -0.113902\n",
       "Vi           0.859918\n",
       "D           -0.417613\n",
       "V            1.416603\n",
       "Sprint Size  0.000000\n",
       "Act:Time    -1.023869"
      ]
     },
     "execution_count": 97,
     "metadata": {},
     "output_type": "execute_result"
    }
   ],
   "source": [
    "pd.DataFrame(df_project.kurt(), columns=['Act:Time'])"
   ]
  },
  {
   "cell_type": "code",
   "execution_count": 98,
   "id": "8cf9fb5e-1e86-4417-8827-0826e84619aa",
   "metadata": {},
   "outputs": [
    {
     "data": {
      "text/html": [
       "<div>\n",
       "<style scoped>\n",
       "    .dataframe tbody tr th:only-of-type {\n",
       "        vertical-align: middle;\n",
       "    }\n",
       "\n",
       "    .dataframe tbody tr th {\n",
       "        vertical-align: top;\n",
       "    }\n",
       "\n",
       "    .dataframe thead th {\n",
       "        text-align: right;\n",
       "    }\n",
       "</style>\n",
       "<table border=\"1\" class=\"dataframe\">\n",
       "  <thead>\n",
       "    <tr style=\"text-align: right;\">\n",
       "      <th></th>\n",
       "      <th>Act:Time</th>\n",
       "    </tr>\n",
       "  </thead>\n",
       "  <tbody>\n",
       "    <tr>\n",
       "      <th>Effort</th>\n",
       "      <td>0.928819</td>\n",
       "    </tr>\n",
       "    <tr>\n",
       "      <th>Vi</th>\n",
       "      <td>1.192888</td>\n",
       "    </tr>\n",
       "    <tr>\n",
       "      <th>D</th>\n",
       "      <td>0.372233</td>\n",
       "    </tr>\n",
       "    <tr>\n",
       "      <th>V</th>\n",
       "      <td>1.203352</td>\n",
       "    </tr>\n",
       "    <tr>\n",
       "      <th>Sprint Size</th>\n",
       "      <td>0.000000</td>\n",
       "    </tr>\n",
       "    <tr>\n",
       "      <th>Act:Time</th>\n",
       "      <td>0.063643</td>\n",
       "    </tr>\n",
       "  </tbody>\n",
       "</table>\n",
       "</div>"
      ],
      "text/plain": [
       "             Act:Time\n",
       "Effort       0.928819\n",
       "Vi           1.192888\n",
       "D            0.372233\n",
       "V            1.203352\n",
       "Sprint Size  0.000000\n",
       "Act:Time     0.063643"
      ]
     },
     "execution_count": 98,
     "metadata": {},
     "output_type": "execute_result"
    }
   ],
   "source": [
    "pd.DataFrame(df_project.skew(), columns=['Act:Time'])"
   ]
  },
  {
   "cell_type": "code",
   "execution_count": 4,
   "id": "8adb1e61-d69f-4fd1-8dc9-3737df7d7f9d",
   "metadata": {},
   "outputs": [
    {
     "name": "stdout",
     "output_type": "stream",
     "text": [
      "    Effort   Vi      D    V  Sprint Size  Act:Time\n",
      "0      156  4.2  0.687  2.7           10  4.143135\n",
      "1      202  3.7  0.701  2.5           10  4.521789\n",
      "2      173  4.0  0.878  3.3           10  4.025352\n",
      "3      331  4.5  0.886  3.8           10  4.454347\n",
      "4      124  4.9  0.903  4.2           10  3.465736\n",
      "5      339  4.1  0.903  3.6           10  4.510860\n",
      "6       97  4.2  0.859  3.4           10  3.555348\n",
      "7      257  3.8  0.833  3.0           10  4.532599\n",
      "8       84  3.9  0.646  2.4           10  3.583519\n",
      "9      211  4.6  0.758  3.2           10  4.127134\n",
      "10     131  4.6  0.758  3.2           10  3.806662\n",
      "11     112  3.9  0.773  2.9           10  3.610918\n",
      "12     101  3.9  0.773  2.9           10  3.465736\n",
      "13      74  3.9  0.773  2.9           10  3.401197\n",
      "14      62  3.9  0.773  2.9           10  3.044522\n",
      "15     289  4.0  0.742  2.8           10  4.718499\n",
      "16     113  4.0  0.742  2.8           10  3.663562\n",
      "17     141  4.0  0.742  2.8           10  3.951244\n",
      "18     213  4.0  0.742  2.8           10  4.382027\n",
      "19     137  3.7  0.758  2.7           10  4.025352\n",
      "20      91  3.7  0.758  2.7           10  3.555348\n"
     ]
    }
   ],
   "source": [
    "print(df_project)"
   ]
  },
  {
   "cell_type": "code",
   "execution_count": 4,
   "id": "6d83aa45-64c7-4fbb-ad03-7b9498c66059",
   "metadata": {},
   "outputs": [],
   "source": [
    "for col in df_project.columns:\n",
    "    if col == 'Effort' or col == 'Act:Time':\n",
    "        if df_project[col].max() != df_project[col].min():\n",
    "            df_project[col] = (df_project[col] - df_project[col].min()) / (df_project[col].max() - df_project[col].min())\n",
    "        else:\n",
    "            df_project[col] = 0.5\n",
    "# df_project['Act:Time'] = (df_project['Act:Time'] - df_project['Act:Time'].min()) / (df_project['Act:Time'].max() - df_project['Act:Time'].min())\n",
    "# df_project['Effort'] = (df_project['Effort'] - df_project['Effort'].min()) / (df_project['Effort'].max() - df_project['Effort'].min())"
   ]
  },
  {
   "cell_type": "code",
   "execution_count": 5,
   "id": "c241ae98-3099-4218-90d7-fffde63498ab",
   "metadata": {},
   "outputs": [
    {
     "name": "stdout",
     "output_type": "stream",
     "text": [
      "      Effort   Vi      D    V  Sprint Size  Act:Time\n",
      "0   0.339350  4.2  0.687  2.7           10  0.656289\n",
      "1   0.505415  3.7  0.701  2.5           10  0.882489\n",
      "2   0.400722  4.0  0.878  3.3           10  0.585928\n",
      "3   0.971119  4.5  0.886  3.8           10  0.842201\n",
      "4   0.223827  4.9  0.903  4.2           10  0.251624\n",
      "5   1.000000  4.1  0.903  3.6           10  0.875960\n",
      "6   0.126354  4.2  0.859  3.4           10  0.305157\n",
      "7   0.703971  3.8  0.833  3.0           10  0.888947\n",
      "8   0.079422  3.9  0.646  2.4           10  0.321986\n",
      "9   0.537906  4.6  0.758  3.2           10  0.646731\n",
      "10  0.249097  4.6  0.758  3.2           10  0.455287\n",
      "11  0.180505  3.9  0.773  2.9           10  0.338353\n",
      "12  0.140794  3.9  0.773  2.9           10  0.251624\n",
      "13  0.043321  3.9  0.773  2.9           10  0.213070\n",
      "14  0.000000  3.9  0.773  2.9           10  0.000000\n",
      "15  0.819495  4.0  0.742  2.8           10  1.000000\n",
      "16  0.184116  4.0  0.742  2.8           10  0.369802\n",
      "17  0.285199  4.0  0.742  2.8           10  0.541657\n",
      "18  0.545126  4.0  0.742  2.8           10  0.798998\n",
      "19  0.270758  3.7  0.758  2.7           10  0.585928\n",
      "20  0.104693  3.7  0.758  2.7           10  0.305157\n"
     ]
    }
   ],
   "source": [
    "print(df_project)"
   ]
  },
  {
   "cell_type": "code",
   "execution_count": 101,
   "id": "32275a94-f976-499e-b8bb-cabd85cda69a",
   "metadata": {},
   "outputs": [
    {
     "name": "stderr",
     "output_type": "stream",
     "text": [
      "C:\\Users\\Zi Qi\\anaconda3\\envs\\ziqi_working\\lib\\site-packages\\pandas\\plotting\\_matplotlib\\core.py:1114: UserWarning: No data for colormapping provided via 'c'. Parameters 'cmap' will be ignored\n",
      "  scatter = ax.scatter(\n"
     ]
    },
    {
     "data": {
      "image/png": "[encoded data removed]",
      "text/plain": [
       "<Figure size 432x288 with 1 Axes>"
      ]
     },
     "metadata": {
      "needs_background": "light"
     },
     "output_type": "display_data"
    }
   ],
   "source": [
    "df_project.plot(x ='Effort', y='Act:Time', kind = 'scatter')\n",
    "plt.show()"
   ]
  },
  {
   "cell_type": "code",
   "execution_count": 3,
   "id": "fd385608-a98e-4ab7-b694-8a84e2751273",
   "metadata": {},
   "outputs": [],
   "source": []
  }
 ],
 "metadata": {
  "kernelspec": {
   "display_name": "Python 3.9.13 ('ziqi_working')",
   "language": "python",
   "name": "python3"
  },
  "language_info": {
   "codemirror_mode": {
    "name": "ipython",
    "version": 3
   },
   "file_extension": ".py",
   "mimetype": "text/x-python",
   "name": "python",
   "nbconvert_exporter": "python",
   "pygments_lexer": "ipython3",
   "version": "3.9.13"
  },
  "vscode": {
   "interpreter": {
    "hash": "befb4349013f2ba25aa4f7fa05787c3745c945e27f323268727cb9f8ce61b9b5"
   }
  }
 },
 "nbformat": 4,
 "nbformat_minor": 5
}
