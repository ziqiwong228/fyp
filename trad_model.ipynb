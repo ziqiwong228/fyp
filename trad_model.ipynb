{
 "cells": [
  {
   "cell_type": "markdown",
   "id": "35064761",
   "metadata": {},
   "source": [
    "# Model Training and Testing Script"
   ]
  },
  {
   "cell_type": "markdown",
   "id": "a1e43c41",
   "metadata": {},
   "source": [
    "## Necessary Libraries"
   ]
  },
  {
   "cell_type": "code",
   "execution_count": 2,
   "id": "6212e3eb",
   "metadata": {},
   "outputs": [],
   "source": [
    "import pandas as pd\n",
    "import numpy as np\n",
    "import joblib\n",
    "import matplotlib.pyplot as plt\n",
    "from sklearn import svm\n",
    "from sklearn import metrics\n",
    "from sklearn.model_selection import train_test_split, cross_val_score, GridSearchCV, ShuffleSplit\n",
    "from sklearn.ensemble import GradientBoostingRegressor\n",
    "from sklearn.ensemble import AdaBoostRegressor\n",
    "from sklearn.ensemble import RandomForestRegressor\n",
    "from sklearn.ensemble import BaggingRegressor"
   ]
  },
  {
   "cell_type": "markdown",
   "id": "af239a70",
   "metadata": {},
   "source": [
    "## Datasets"
   ]
  },
  {
   "cell_type": "code",
   "execution_count": 72,
   "id": "b9a05cb6",
   "metadata": {},
   "outputs": [
    {
     "data": {
      "text/html": [
       "<div>\n",
       "<style scoped>\n",
       "    .dataframe tbody tr th:only-of-type {\n",
       "        vertical-align: middle;\n",
       "    }\n",
       "\n",
       "    .dataframe tbody tr th {\n",
       "        vertical-align: top;\n",
       "    }\n",
       "\n",
       "    .dataframe thead th {\n",
       "        text-align: right;\n",
       "    }\n",
       "</style>\n",
       "<table border=\"1\" class=\"dataframe\">\n",
       "  <thead>\n",
       "    <tr style=\"text-align: right;\">\n",
       "      <th></th>\n",
       "      <th>TeamExp</th>\n",
       "      <th>ManagerExp</th>\n",
       "      <th>Length</th>\n",
       "      <th>Effort</th>\n",
       "      <th>Transactions</th>\n",
       "      <th>Entities</th>\n",
       "      <th>PointsNonAdjust</th>\n",
       "    </tr>\n",
       "  </thead>\n",
       "  <tbody>\n",
       "    <tr>\n",
       "      <th>0</th>\n",
       "      <td>1</td>\n",
       "      <td>4</td>\n",
       "      <td>12</td>\n",
       "      <td>5152</td>\n",
       "      <td>253</td>\n",
       "      <td>52</td>\n",
       "      <td>305</td>\n",
       "    </tr>\n",
       "    <tr>\n",
       "      <th>1</th>\n",
       "      <td>0</td>\n",
       "      <td>0</td>\n",
       "      <td>4</td>\n",
       "      <td>5635</td>\n",
       "      <td>197</td>\n",
       "      <td>124</td>\n",
       "      <td>321</td>\n",
       "    </tr>\n",
       "    <tr>\n",
       "      <th>2</th>\n",
       "      <td>4</td>\n",
       "      <td>4</td>\n",
       "      <td>1</td>\n",
       "      <td>805</td>\n",
       "      <td>40</td>\n",
       "      <td>60</td>\n",
       "      <td>100</td>\n",
       "    </tr>\n",
       "    <tr>\n",
       "      <th>3</th>\n",
       "      <td>0</td>\n",
       "      <td>0</td>\n",
       "      <td>5</td>\n",
       "      <td>3829</td>\n",
       "      <td>200</td>\n",
       "      <td>119</td>\n",
       "      <td>319</td>\n",
       "    </tr>\n",
       "    <tr>\n",
       "      <th>4</th>\n",
       "      <td>0</td>\n",
       "      <td>0</td>\n",
       "      <td>4</td>\n",
       "      <td>2149</td>\n",
       "      <td>140</td>\n",
       "      <td>94</td>\n",
       "      <td>234</td>\n",
       "    </tr>\n",
       "  </tbody>\n",
       "</table>\n",
       "</div>"
      ],
      "text/plain": [
       "   TeamExp  ManagerExp  Length  Effort  Transactions  Entities  \\\n",
       "0        1           4      12    5152           253        52   \n",
       "1        0           0       4    5635           197       124   \n",
       "2        4           4       1     805            40        60   \n",
       "3        0           0       5    3829           200       119   \n",
       "4        0           0       4    2149           140        94   \n",
       "\n",
       "   PointsNonAdjust  \n",
       "0              305  \n",
       "1              321  \n",
       "2              100  \n",
       "3              319  \n",
       "4              234  "
      ]
     },
     "execution_count": 72,
     "metadata": {},
     "output_type": "execute_result"
    }
   ],
   "source": [
    "# read in the dataset\n",
    "df = pd.read_excel('./trad_dataset/DS-1 (P).xlsx')\n",
    "\n",
    "df.drop(columns=['YearEnd'], inplace=True)\n",
    "\n",
    "df.head()"
   ]
  },
  {
   "cell_type": "code",
   "execution_count": 4,
   "id": "508bceeb",
   "metadata": {},
   "outputs": [
    {
     "name": "stdout",
     "output_type": "stream",
     "text": [
      "77\n"
     ]
    }
   ],
   "source": [
    "print(len(df))"
   ]
  },
  {
   "cell_type": "markdown",
   "id": "2a16b566",
   "metadata": {},
   "source": [
    ">There are 77 rows, 5 predictors, and 1 target in total"
   ]
  },
  {
   "cell_type": "markdown",
   "id": "d0a8065c",
   "metadata": {},
   "source": [
    "## Global Variables"
   ]
  },
  {
   "cell_type": "code",
   "execution_count": 73,
   "id": "175ff150",
   "metadata": {},
   "outputs": [],
   "source": [
    "TARGET = 'Effort'\n",
    "\n",
    "#Choose all predictors except target & IDcols\n",
    "PREDICTORS = [x for x in df.columns if x not in [TARGET]]\n",
    "\n",
    "X = df[TARGET]\n",
    "y = df[PREDICTORS]"
   ]
  },
  {
   "cell_type": "markdown",
   "id": "abbba04e",
   "metadata": {},
   "source": [
    "## Model Fitting"
   ]
  },
  {
   "cell_type": "code",
   "execution_count": 74,
   "id": "920b7e0f",
   "metadata": {},
   "outputs": [],
   "source": [
    "def modelfit(alg, X_train, X_test, y_train, y_test, predictors, printFeatureImportance=True):\n",
    "    \n",
    "    #Fit the algorithm on the data\n",
    "    alg.fit(X_train, y_train)\n",
    "\n",
    "    #Predict training set:\n",
    "    Y_pred = alg.predict(X_test)\n",
    "    diff = np.absolute(y_test-Y_pred)\n",
    "    MRE = diff/y_test\n",
    "    MMRE = np.mean(MRE)\n",
    "    MAE = metrics.mean_absolute_error(y_test,Y_pred)\n",
    "    \n",
    "    #Print model report:\n",
    "    print (\"\\nModel Report\")\n",
    "    print (\"Average MMRE: %.4g\" % MMRE)\n",
    "    print (\"Average MAE: %.4g\" % MAE)"
   ]
  },
  {
   "cell_type": "code",
   "execution_count": 75,
   "id": "ec973278",
   "metadata": {},
   "outputs": [],
   "source": [
    "# split data for testing and training \n",
    "X_train, X_test, y_train, y_test = train_test_split(df[PREDICTORS], df[TARGET], test_size=0.3)"
   ]
  },
  {
   "cell_type": "markdown",
   "id": "20373d88",
   "metadata": {},
   "source": [
    "### Bagging"
   ]
  },
  {
   "cell_type": "code",
   "execution_count": 76,
   "id": "dc062091",
   "metadata": {},
   "outputs": [
    {
     "name": "stdout",
     "output_type": "stream",
     "text": [
      "\n",
      "Model Report\n",
      "Average MMRE: 1.06\n",
      "Average MAE: 3074\n"
     ]
    }
   ],
   "source": [
    "bag = BaggingRegressor(random_state=42)\n",
    "modelfit(bag, X_train, X_test, y_train, y_test, PREDICTORS)"
   ]
  },
  {
   "cell_type": "markdown",
   "id": "78195ac2",
   "metadata": {},
   "source": [
    "### AdaBoost"
   ]
  },
  {
   "cell_type": "code",
   "execution_count": 77,
   "id": "d968a592",
   "metadata": {},
   "outputs": [
    {
     "name": "stdout",
     "output_type": "stream",
     "text": [
      "\n",
      "Model Report\n",
      "Average MMRE: 0.8509\n",
      "Average MAE: 2634\n"
     ]
    }
   ],
   "source": [
    "ada = AdaBoostRegressor(random_state=42)\n",
    "modelfit(ada, X_train, X_test, y_train, y_test, PREDICTORS)"
   ]
  },
  {
   "cell_type": "markdown",
   "id": "361bf894",
   "metadata": {},
   "source": [
    "### Random Forest Regressor"
   ]
  },
  {
   "cell_type": "code",
   "execution_count": 78,
   "id": "ee220ecd",
   "metadata": {},
   "outputs": [
    {
     "name": "stdout",
     "output_type": "stream",
     "text": [
      "\n",
      "Model Report\n",
      "Average MMRE: 0.8239\n",
      "Average MAE: 2455\n"
     ]
    }
   ],
   "source": [
    "rf = RandomForestRegressor(random_state=42)\n",
    "modelfit(rf, X_train, X_test, y_train, y_test, PREDICTORS)"
   ]
  },
  {
   "cell_type": "markdown",
   "id": "1ab892f3",
   "metadata": {},
   "source": [
    "### Gradient Boosting"
   ]
  },
  {
   "cell_type": "code",
   "execution_count": 79,
   "id": "0e98d84e",
   "metadata": {},
   "outputs": [
    {
     "name": "stdout",
     "output_type": "stream",
     "text": [
      "\n",
      "Model Report\n",
      "Average MMRE: 0.9017\n",
      "Average MAE: 2691\n"
     ]
    }
   ],
   "source": [
    "gbm0 = GradientBoostingRegressor(random_state=42)\n",
    "modelfit(gbm0, X_train, X_test, y_train, y_test, PREDICTORS)"
   ]
  },
  {
   "cell_type": "markdown",
   "id": "120ad977",
   "metadata": {},
   "source": [
    "## Hyperparameters Tuning\n",
    "From the results above, we can see that the proposed models have similar MMRE but Random Forest Regressor outperforms the rest in terms of lower MAE. We will further tune 5 main tree-based hyperparameters of this model for optimization purposes, including n_estimators, min_samples_split, min_samples_leaf, max_depth, and max_features."
   ]
  },
  {
   "cell_type": "markdown",
   "id": "08d24ea9",
   "metadata": {},
   "source": [
    "###  Fix number of estimators for tuning tree-based parameters"
   ]
  },
  {
   "cell_type": "markdown",
   "id": "394cf578",
   "metadata": {},
   "source": [
    "#### Test 1\n",
    "Choose min_samples_split that should be at 0.5 to 1% of the total samples. Since we have 77 rows in total, so take 8 here. The max_depth should be chosen between 5 to 8 based on the observations and predictors. Since our dataset set is small, so take 5 here. The min_samples_leaf is used for preventing overfitting and again take a small value, 4, which is the half of the sample split in this case."
   ]
  },
  {
   "cell_type": "code",
   "execution_count": 80,
   "id": "74d34b68",
   "metadata": {},
   "outputs": [
    {
     "data": {
      "text/plain": [
       "({'n_estimators': 40}, -2139.0233914582896)"
      ]
     },
     "execution_count": 80,
     "metadata": {},
     "output_type": "execute_result"
    }
   ],
   "source": [
    "param_test1 = {'n_estimators':range(20,81,10)}\n",
    "search1 = GridSearchCV(estimator = RandomForestRegressor(bootstrap=True, min_samples_split=8,min_samples_leaf=2,max_depth=5,max_features='sqrt',random_state=42), \n",
    "param_grid = param_test1, scoring='neg_mean_absolute_error',n_jobs=4,cv=5)\n",
    "search1.fit(X_train,y_train)\n",
    "search1.best_params_, search1.best_score_"
   ]
  },
  {
   "cell_type": "markdown",
   "id": "c92ff287",
   "metadata": {},
   "source": [
    "#### Test 2\n",
    "Using the newly computed number of estimators, we will test min_samples_split from 8 to 40 in steps of 8. Also, we will test max_depth from 5 to 13 in steps of 2."
   ]
  },
  {
   "cell_type": "code",
   "execution_count": 81,
   "id": "52e30093",
   "metadata": {},
   "outputs": [
    {
     "data": {
      "text/plain": [
       "({'max_depth': 5, 'min_samples_split': 8}, -2139.0233914582896)"
      ]
     },
     "execution_count": 81,
     "metadata": {},
     "output_type": "execute_result"
    }
   ],
   "source": [
    "param_test2 = {'max_depth':range(5,14,2), 'min_samples_split':range(8,41,8)}\n",
    "search2 = GridSearchCV(estimator = RandomForestRegressor(bootstrap=True,n_estimators=40,min_samples_leaf=2,max_features='sqrt',random_state=42), \n",
    "param_grid = param_test2, scoring='neg_mean_absolute_error',n_jobs=4, cv=5)\n",
    "search2.fit(X_train,y_train)\n",
    "search2.best_params_, search2.best_score_"
   ]
  },
  {
   "cell_type": "markdown",
   "id": "af4cffb4",
   "metadata": {},
   "source": [
    "#### Test 3\n",
    "By using the parameter values computed from test 2, which produces a better result, we will test min_samples_leaf from 1 to 8 in steps of 1."
   ]
  },
  {
   "cell_type": "code",
   "execution_count": 82,
   "id": "783855ad",
   "metadata": {},
   "outputs": [
    {
     "data": {
      "text/plain": [
       "({'min_samples_leaf': 3}, -2117.8210636126496)"
      ]
     },
     "execution_count": 82,
     "metadata": {},
     "output_type": "execute_result"
    }
   ],
   "source": [
    "param_test3 = {'min_samples_leaf':range(1,9,1)}\n",
    "search3 = GridSearchCV(estimator = RandomForestRegressor(bootstrap=True,n_estimators=40,max_depth=5,min_samples_split=8,max_features='sqrt',random_state=42), \n",
    "param_grid = param_test3, scoring='neg_mean_absolute_error',n_jobs=4, cv=5)\n",
    "search3.fit(X_train,y_train)\n",
    "search3.best_params_, search3.best_score_"
   ]
  },
  {
   "cell_type": "markdown",
   "id": "db56406f",
   "metadata": {},
   "source": [
    "#### Test 4\n",
    "Choose min_samples_leaf as 3. We will test max_features from 1 to 6 in steps of 1 since we have only 6 predictors in our dataset."
   ]
  },
  {
   "cell_type": "code",
   "execution_count": 83,
   "id": "d10766aa",
   "metadata": {},
   "outputs": [
    {
     "data": {
      "text/plain": [
       "({'max_features': 2}, -2117.8210636126496)"
      ]
     },
     "execution_count": 83,
     "metadata": {},
     "output_type": "execute_result"
    }
   ],
   "source": [
    "param_test4 = {'max_features':range(1,6,1)}\n",
    "search4 = GridSearchCV(estimator = RandomForestRegressor(bootstrap=True,n_estimators=40,max_depth=5,min_samples_leaf=3,min_samples_split=8,random_state=42),\n",
    "param_grid = param_test4, scoring='neg_mean_absolute_error',n_jobs=4, cv=5)\n",
    "search4.fit(X_train,y_train)\n",
    "search4.best_params_, search4.best_score_"
   ]
  },
  {
   "cell_type": "markdown",
   "id": "6da291a3",
   "metadata": {},
   "source": [
    "#### Optimal tree-parameters:  \n",
    "\n",
    "n_estimators: 40  \n",
    "min_samples_split: 8  \n",
    "min_samples_leaf: 3  \n",
    "max_depth: 5  \n",
    "max_features: 'sqrt'/2"
   ]
  },
  {
   "cell_type": "markdown",
   "id": "bd1ae81c",
   "metadata": {},
   "source": [
    "### Results"
   ]
  },
  {
   "cell_type": "code",
   "execution_count": 84,
   "id": "84325add",
   "metadata": {},
   "outputs": [
    {
     "name": "stdout",
     "output_type": "stream",
     "text": [
      "\n",
      "Model Report\n",
      "Average MMRE: 0.7722\n",
      "Average MAE: 2326\n"
     ]
    }
   ],
   "source": [
    "rf_tuned = RandomForestRegressor(bootstrap=True,n_estimators=40,max_depth=5,min_samples_leaf=3,min_samples_split=8,max_features='sqrt',random_state=42)\n",
    "modelfit(rf_tuned, X_train, X_test, y_train, y_test, PREDICTORS)"
   ]
  },
  {
   "cell_type": "markdown",
   "id": "201c1803",
   "metadata": {},
   "source": [
    "By tuning the hyperparameters, we can clearly see that the average MAE and MMRE decrease significantly. This model will be selected as our final model for traditional projects."
   ]
  },
  {
   "cell_type": "code",
   "execution_count": 70,
   "id": "fb8aef20",
   "metadata": {},
   "outputs": [
    {
     "data": {
      "text/plain": [
       "Text(0, 0.5, 'Feature Importance Score')"
      ]
     },
     "execution_count": 70,
     "metadata": {},
     "output_type": "execute_result"
    },
    {
     "data": {
      "image/png": "[encoded data removed]",
      "text/plain": [
       "<Figure size 640x480 with 1 Axes>"
      ]
     },
     "metadata": {},
     "output_type": "display_data"
    }
   ],
   "source": [
    "feat_imp = pd.Series(rf_tuned.feature_importances_, PREDICTORS).sort_values(ascending=False)\n",
    "feat_imp.plot(kind='bar', title='Feature Importances')\n",
    "plt.ylabel('Feature Importance Score')"
   ]
  },
  {
   "cell_type": "markdown",
   "id": "3dda09a7",
   "metadata": {},
   "source": [
    "## Export Model"
   ]
  },
  {
   "cell_type": "code",
   "execution_count": 86,
   "id": "b5f7cc17",
   "metadata": {},
   "outputs": [
    {
     "data": {
      "text/plain": [
       "['trad_trained_model.joblib']"
      ]
     },
     "execution_count": 86,
     "metadata": {},
     "output_type": "execute_result"
    }
   ],
   "source": [
    "filename = \"trad_trained_model.joblib\"\n",
    "joblib.dump(rf_tuned, filename)"
   ]
  },
  {
   "cell_type": "code",
   "execution_count": null,
   "id": "30100bd5",
   "metadata": {},
   "outputs": [],
   "source": []
  }
 ],
 "metadata": {
  "kernelspec": {
   "display_name": "Python 3.9.13 ('ziqi_working')",
   "language": "python",
   "name": "python3"
  },
  "language_info": {
   "codemirror_mode": {
    "name": "ipython",
    "version": 3
   },
   "file_extension": ".py",
   "mimetype": "text/x-python",
   "name": "python",
   "nbconvert_exporter": "python",
   "pygments_lexer": "ipython3",
   "version": "3.9.13"
  },
  "vscode": {
   "interpreter": {
    "hash": "befb4349013f2ba25aa4f7fa05787c3745c945e27f323268727cb9f8ce61b9b5"
   }
  }
 },
 "nbformat": 4,
 "nbformat_minor": 5
}
